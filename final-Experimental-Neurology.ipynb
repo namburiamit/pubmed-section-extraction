{
 "cells": [
  {
   "cell_type": "markdown",
   "id": "ed9430b8",
   "metadata": {},
   "source": [
    "# Journal of Experimental Neurology Extraction Code"
   ]
  },
  {
   "cell_type": "code",
   "execution_count": 1,
   "id": "c827461f",
   "metadata": {},
   "outputs": [],
   "source": [
    "# Import necessary modules\n",
    "import os\n",
    "import requests\n",
    "from bs4 import BeautifulSoup\n",
    "from time import sleep\n",
    "from random import uniform\n",
    "from concurrent.futures import ThreadPoolExecutor\n",
    "from tqdm import tqdm\n",
    "import json\n",
    "from math import ceil\n",
    "from collections import defaultdict, Counter\n",
    "from statistics import mean, median, stdev\n",
    "import matplotlib.pyplot as plt"
   ]
  },
  {
   "cell_type": "code",
   "execution_count": 2,
   "id": "e788518e",
   "metadata": {},
   "outputs": [
    {
     "data": {
      "text/plain": [
       "['final-JNeurotrauma.ipynb',\n",
       " 'additional-section',\n",
       " '.DS_Store',\n",
       " 'final-additional',\n",
       " 'Extracted JNeurotrauma',\n",
       " 'Extracted Jneurotrauma-new',\n",
       " 'oa_file_list.txt',\n",
       " 'pmid-Experiment-set.txt',\n",
       " 'pmcid-Experiment-set.txt',\n",
       " 'pmcid-JNeurotrau-set.txt',\n",
       " 'pmid-JNeurotrau-set.txt',\n",
       " 'Extracted Experimental Neurology',\n",
       " '.ipynb_checkpoints',\n",
       " 'package',\n",
       " 'final-Experimental-Neurology.ipynb',\n",
       " 'extraction-github']"
      ]
     },
     "execution_count": 2,
     "metadata": {},
     "output_type": "execute_result"
    }
   ],
   "source": [
    "# List all files in the current directory\n",
    "os.listdir()"
   ]
  },
  {
   "cell_type": "markdown",
   "id": "036dd7d7",
   "metadata": {},
   "source": [
    "## PMID to PMCID Conversion"
   ]
  },
  {
   "cell_type": "code",
   "execution_count": 3,
   "id": "b675a051",
   "metadata": {},
   "outputs": [
    {
     "name": "stdout",
     "output_type": "stream",
     "text": [
      "Number of PMIDs: 1060\n"
     ]
    }
   ],
   "source": [
    "# Count number of PMIDs in pmid-JNeurotrau-set.txt\n",
    "with open('pmid-Experiment-set.txt', 'r') as file:\n",
    "    pmid_lines = file.readlines()\n",
    "    number_of_pmids = len(pmid_lines)\n",
    "\n",
    "print(f\"Number of PMIDs: {number_of_pmids}\")\n"
   ]
  },
  {
   "cell_type": "code",
   "execution_count": 4,
   "id": "1ec438ca",
   "metadata": {},
   "outputs": [
    {
     "name": "stdout",
     "output_type": "stream",
     "text": [
      "Number of PMCIDs: 810\n"
     ]
    }
   ],
   "source": [
    "# Count number of PMCIDs in pmcid-JNeurotrau-set.txt\n",
    "with open('pmcid-Experiment-set.txt', 'r') as file:\n",
    "    pmcid_lines = file.readlines()\n",
    "    number_of_pmcids = len(pmcid_lines)\n",
    "\n",
    "print(f\"Number of PMCIDs: {number_of_pmcids}\")\n"
   ]
  },
  {
   "cell_type": "code",
   "execution_count": 5,
   "id": "9827775a",
   "metadata": {},
   "outputs": [
    {
     "name": "stdout",
     "output_type": "stream",
     "text": [
      "Number of missing PMIDs: 250\n",
      "\n",
      "Missing PMIDs:\n",
      "{'25792481', '27063582', '25816736', '26428905', '25476493', '26079646', '24945601', '26687972', '24999027', '25891441', '25939697', '25708986', '23178582', '26091850', '26169930', '26791254', '26287750', '25483398', '25541322', '26387938', '25432068', '25246228', '25118620', '24858805', '26093037', '26188381', '26044197', '25863021', '24731947', '25842268', '25889458', '26851542', '25500111', '26698925', '25542980', '26836322', '25131640', '26071088', '25447938', '25592627', '26408049', '25263581', '25797576', '24918341', '25058045', '25681575', '26263843', '26746986', '26546833', '25433215', '26854932', '25863022', '24999028', '27060489', '27018320', '26953231', '26626971', '25987538', '26172316', '26775176', '26689323', '26597542', '25523813', '25862287', '26079647', '25446721', '23036599', '26416261', '25084518', '25981889', '26607913', '26439313', '25597650', '25447935', '26988764', '25432069', '26366525', '24731945', '26853136', '25814441', '26210872', '25448007', '26784005', '25864929', '25900056', '25936875', '24768797', '26220898', '23507035', '26238735', '24954637', '25523812', '26257025', '24512750', '25151457', '26874223', '26688581', '25783658', '26222335', '24959867', '25771799', '24910201', '25828533', '26244281', '26775178', '25448005', '25747036', '24859452', '26896834', '24560819', '25749188', '24861442', '25448156', '26730519', '25109669', '24873728', '26341392', '25128264', '24873730', '25585012', '25687550', '25447941', '26980486', '26216662', '23376224', '25819104', '25500142', '26825854', '25725353', '25496841', '25843547', '26730520', '26515691', '26522013', '25585014', '26902473', '25542978', '25157902', '25510318', '25771800', '26616238', '25687551', '26476179', '26342753', '25447942', '25448009', '25084519', '26607912', '25447939', '25743217', '25836044', '25796590', '25476494', '24907401', '25725355', '25864931', '25697845', '26193167', '26015333', '26708732', '24999026', '26315937', '24915640', '25542977', '26024861', '26946223', '25284324', '26054883', '27018321', '26746985', '26883566', '26410685', '27016069', '25725354', '24873729', '26957369', '25261754', '24973622', '26808660', '26394202', '26687971', '26431741', '25483396', '25017367', '26851541', '25158309', '25666586', '24842488', '26795089', '25218043', '25792482', '25595121', '26257024', '25542160', '25936874', '26272753', '25708987', '26024858', '25079367', '25017368', '25819102', '26730521', '25263580', '26826447', '26054884', '25681572', '25448157', '25779930', '25263579', '26892876', '25058046', '25447940', '26995324', '26854933', '26070306', '26103453', '25205229', '24907399', '25704959', '25447937', '25620416', '26024860', '26247808', '25284323', '26424436', '26028309', '24845851', '25929689', '27001544', '26099177', '25483397', '25725352', '26277686', '25158310', '26946222', '25957630', '24509348', '25943585', '25263582', '24852102', '24613827', '25562527', '26376217', '25956829', '26996133', '26033474', '27016070', '26112314', '24997240', '26896833'}\n"
     ]
    }
   ],
   "source": [
    "pmid_list = [line.strip().split('-')[0] for line in pmid_lines]\n",
    "pmcid_list = [line.strip().split('-')[0] for line in pmcid_lines]\n",
    "\n",
    "# Find missing PMIDs that are in pmid-JNeurotrau-set.txt but not in pmcid-JNeurotrau-set.txt\n",
    "missing_pmids = set(pmid_list) - set(pmcid_list)\n",
    "number_of_missing_pmids = len(missing_pmids)\n",
    "number_difference = number_of_pmids - number_of_pmcids\n",
    "\n",
    "print(f\"Number of missing PMIDs: {number_of_missing_pmids}\\n\")\n",
    "print(f\"Missing PMIDs:\\n{missing_pmids}\")\n"
   ]
  },
  {
   "cell_type": "markdown",
   "id": "c93716dc",
   "metadata": {},
   "source": [
    "#### We can see that 250 PMIDs were not converted to PMCIDs so now we're dealing with 810 PMCIDs or papers."
   ]
  },
  {
   "cell_type": "markdown",
   "id": "89128af2",
   "metadata": {},
   "source": [
    "## Methods Section Extraction"
   ]
  },
  {
   "cell_type": "code",
   "execution_count": 6,
   "id": "0f1ae12d",
   "metadata": {},
   "outputs": [],
   "source": [
    "# Function to fetch HTML content of a given PMCID\n",
    "def fetch_pmc_html(pmcid):\n",
    "    url = f\"https://www.ncbi.nlm.nih.gov/pmc/articles/{pmcid}/\"\n",
    "    headers = {\n",
    "        'User-Agent': 'Mozilla/5.0 (Windows NT 10.0; Win64; x64) AppleWebKit/537.36 (KHTML, like Gecko) Chrome/91.0.4472.124 Safari/537.36',\n",
    "        'Accept-Language': 'en-US,en;q=0.9',\n",
    "        'Accept-Encoding': 'gzip, deflate, br',\n",
    "        'Connection': 'keep-alive',\n",
    "        'Referer': 'https://www.ncbi.nlm.nih.gov/',\n",
    "    }\n",
    "    try:\n",
    "        response = requests.get(url, headers=headers)\n",
    "        sleep(uniform(10, 15))\n",
    "        if response.status_code == 200:\n",
    "            return response.content\n",
    "        elif response.status_code == 404:\n",
    "            print(f\"PMCID {pmcid} not found (404). Skipping.\")\n",
    "            return None\n",
    "        else:\n",
    "            print(f\"Failed to fetch HTML for PMCID: {pmcid} - Status Code: {response.status_code}\")\n",
    "            return None\n",
    "    except requests.exceptions.RequestException as e:\n",
    "        print(f\"Error fetching HTML for PMCID: {pmcid} - Error: {e}\")\n",
    "        return None\n",
    "\n",
    "# Function to extract the Methods section from HTML content\n",
    "def extract_methods_from_html(html_content):\n",
    "    soup = BeautifulSoup(html_content, 'html.parser')\n",
    "    potential_headings = ['methods', 'method', 'materials and methods', 'methodology']\n",
    "    methods_sections = []\n",
    "\n",
    "    for heading_text in potential_headings:\n",
    "        methods_heading = soup.find(lambda tag: tag.name in ['h2', 'h3', 'h4'] and heading_text in tag.get_text(strip=True).lower())\n",
    "        if methods_heading:\n",
    "            current_element = methods_heading.find_next()\n",
    "            while current_element and current_element.name in ['p', 'div', 'section']:\n",
    "                if current_element.name == 'p':\n",
    "                    methods_sections.append(current_element.get_text(strip=True))\n",
    "                elif current_element.name == 'div' and ('sec' in current_element.get('class', []) or 'tsec' in current_element.get('class', [])):\n",
    "                    methods_sections.append(current_element.get_text(separator=\"\\n\", strip=True))\n",
    "                elif current_element.name == 'section':\n",
    "                    methods_sections.append(current_element.get_text(separator=\"\\n\", strip=True))\n",
    "                current_element = current_element.find_next_sibling()\n",
    "            if methods_sections:\n",
    "                break\n",
    "\n",
    "    return \"\\n\\n\".join(methods_sections) if methods_sections else \"Methods section not found.\"\n",
    "\n",
    "# Function to process each PMCID\n",
    "def process_pmcid(pmcid):\n",
    "    html_content = fetch_pmc_html(pmcid)\n",
    "    if html_content:\n",
    "        methods_text = extract_methods_from_html(html_content)\n",
    "        return {\"PMCID\": pmcid, \"Methods\": methods_text}, None\n",
    "    return None, pmcid\n",
    "\n",
    "# Function to save results in JSON format\n",
    "def save_json(data, file_index, output_dir):\n",
    "    \"\"\"\n",
    "    Saves the collected data into a JSON file in the specified output directory.\n",
    "    \"\"\"\n",
    "    os.makedirs(output_dir, exist_ok=True)\n",
    "    file_path = os.path.join(output_dir, f\"methods_{file_index}.json\")\n",
    "    with open(file_path, 'w') as f:\n",
    "        json.dump(data, f, indent=2)\n",
    "    print(f\"Saved {len(data)} entries to {file_path}\")\n"
   ]
  },
  {
   "cell_type": "code",
   "execution_count": 8,
   "id": "604744e3",
   "metadata": {},
   "outputs": [],
   "source": [
    "def main(input_file, file_number, chunk_size=100):\n",
    "    \"\"\"\n",
    "    Main function to process a specific chunk of PMCIDs based on the file number and save results.\n",
    "\n",
    "    Args:\n",
    "        input_file (str): The file containing PMCIDs in the format PMID-PMCID.\n",
    "        file_number (int): The file number to process (1 for the first 0-99, 2 for 100-199, etc.).\n",
    "        chunk_size (int): The number of PMCIDs per output JSON file.\n",
    "    \"\"\"\n",
    "    output_dir = 'methods-Experiment-set-new'\n",
    "    failed_pmcids = []\n",
    "\n",
    "    # Read all PMCIDs from the input file\n",
    "    with open(input_file, 'r') as f:\n",
    "        lines = f.readlines()\n",
    "        pmcids = [line.strip().split('-')[1] for line in lines]\n",
    "\n",
    "    # Calculate start and end indices based on file number and chunk size\n",
    "    start_index = (file_number - 1) * chunk_size\n",
    "    end_index = start_index + chunk_size\n",
    "\n",
    "    # Ensure the indices do not go out of bounds\n",
    "    if start_index >= len(pmcids):\n",
    "        print(\"Start index exceeds the total number of PMCIDs.\")\n",
    "        return\n",
    "\n",
    "    pmcids_to_process = pmcids[start_index:end_index]\n",
    "    results = []\n",
    "    file_index = file_number\n",
    "\n",
    "    # Process PMCIDs in chunks using multithreading\n",
    "    with ThreadPoolExecutor(max_workers=10) as executor:\n",
    "        for result, failed in tqdm(executor.map(process_pmcid, pmcids_to_process), total=len(pmcids_to_process), desc=f\"Processing File {file_number}\"):\n",
    "            if result:\n",
    "                results.append(result)\n",
    "            if failed:\n",
    "                failed_pmcids.append(failed)\n",
    "\n",
    "        # Save the results for the current file number\n",
    "        save_json(results, file_index, output_dir)\n",
    "\n",
    "    # Save all failed PMCIDs to a file\n",
    "    if failed_pmcids:\n",
    "        with open(os.path.join(output_dir, 'failed_pmcids.txt'), 'a') as f:\n",
    "            for pmcid in failed_pmcids:\n",
    "                f.write(f\"{pmcid}\\n\")\n",
    "\n",
    "    print(f\"Processing of file number {file_number} completed. {len(results)} sections saved, {len(failed_pmcids)} failed.\")\n",
    "\n",
    "# Example of running the main function with the file number input\n",
    "if __name__ == \"__main__\":\n",
    "    main(input_file='pmcid-Experiment-set.txt', file_number=1, chunk_size=100)\n"
   ]
  },
  {
   "cell_type": "markdown",
   "id": "41e4c2b7",
   "metadata": {},
   "source": [
    "## Analysis of retrieved methods section"
   ]
  },
  {
   "cell_type": "code",
   "execution_count": 10,
   "id": "86473e1f",
   "metadata": {},
   "outputs": [
    {
     "name": "stdout",
     "output_type": "stream",
     "text": [
      "Total Methods Sections extracted: 628\n",
      "\n",
      "Total missing PMCIDs (including 'Methods section not found'): 182\n",
      "\n",
      "Missing PMCIDs: {'PMC7484028', 'PMC10443427', 'PMC6544476', 'PMC5077668', 'PMC9707338', 'PMC5693633', 'PMC8012222', 'PMC5491308', 'PMC5010931', 'PMC8527806', 'PMC4724057', 'PMC5656543', 'PMC7856041', 'PMC4679498', 'PMC4500746', 'PMC10035810', 'PMC7869696', 'PMC4609591', 'PMC4194231', 'PMC4688066', 'PMC4598257', 'PMC7750306', 'PMC6894499', 'PMC4234697', 'PMC10872660', 'PMC7877222', 'PMC6530785', 'PMC4581889', 'PMC4686380', 'PMC8063173', 'PMC4586307', 'PMC10207636', 'PMC10163623', 'PMC7874968', 'PMC7237325', 'PMC9892278', 'PMC5400679', 'PMC5340082', 'PMC5878012', 'PMC6956249', 'PMC4691235', 'PMC7237336', 'PMC5056828', 'PMC9789191', 'PMC4631710', 'PMC4920549', 'PMC4466166', 'PMC9357217', 'PMC6156776', 'PMC11160556', 'PMC4569542', 'PMC6275553', 'PMC4689601', 'PMC6588420', 'PMC8820239', 'PMC9749756', 'PMC5010953', 'PMC4466144', 'PMC5097896', 'PMC4977201', 'PMC5994754', 'PMC5019113', 'PMC6899334', 'PMC6544498', 'PMC6448396', 'PMC6037988', 'PMC4644469', 'PMC8926153', 'PMC7105146', 'PMC4339032', 'PMC4962325', 'PMC4559336', 'PMC9985072', 'PMC7029792', 'PMC5955859', 'PMC6993945', 'PMC4644473', 'PMC8805209', 'PMC7870536', 'PMC7094520', 'PMC8119338', 'PMC5121034', 'PMC8192474', 'PMC7803458', 'PMC7735537', 'PMC4195809', 'PMC9789196', 'PMC6612432', 'PMC4417062', 'PMC4127352', 'PMC5994379', 'PMC5010977', 'PMC10260623', 'PMC6918675', 'PMC5564230', 'PMC3718859', 'PMC6544477', 'PMC4627904', 'PMC5508582', 'PMC7282951', 'PMC7282957', 'PMC5683174', 'PMC5026866', 'PMC10085749', 'PMC8712107', 'PMC9058235', 'PMC7904589', 'PMC9187300', 'PMC4699183', 'PMC6993950', 'PMC10149614', 'PMC7371366', 'PMC5010983', 'PMC4126894', 'PMC4127336', 'PMC4221591', 'PMC4375064', 'PMC5693612', 'PMC6980730', 'PMC6544502', 'PMC5723548', 'PMC5666574', 'PMC7840222', 'PMC4980303', 'PMC4399493', 'PMC7328885', 'PMC4125548', 'PMC3758390', 'PMC6981270', 'PMC8325780', 'PMC10842357', 'PMC6541231', 'PMC8117184', 'PMC10723052', 'PMC6588497', 'PMC6739863', 'PMC4681695', 'PMC10591902', 'PMC10521930', 'PMC6544469', 'PMC4963305', 'PMC6370304', 'PMC10922898', 'PMC4631675', 'PMC7304262', 'PMC6716787', 'PMC3568448', 'PMC7145763', 'PMC10115519', 'PMC6936336', 'PMC6447476', 'PMC7418167', 'PMC5810939', 'PMC5010970', 'PMC5121056', 'PMC5653467', 'PMC4636484', 'PMC4644457', 'PMC7145755', 'PMC10097408', 'PMC7612436', 'PMC8169575', 'PMC5056806', 'PMC8848293', 'PMC7642146', 'PMC6007860', 'PMC5136328', 'PMC7145749', 'PMC5121051', 'PMC4241182', 'PMC11213279', 'PMC8756814', 'PMC11058030', 'PMC7233457', 'PMC8375392', 'PMC4162671', 'PMC9361710', 'PMC9164988', 'PMC5056798', 'PMC5771678', 'PMC8338805', 'PMC7904625'}\n"
     ]
    }
   ],
   "source": [
    "with open('pmcid-Experiment-set.txt', 'r') as file:\n",
    "    pmcid_list = [line.strip().split('-')[1] for line in file.readlines()]\n",
    "\n",
    "json_pmcids = set()\n",
    "missing_methods_pmcids = set()\n",
    "\n",
    "# Loop through the JSON files\n",
    "for i in range(1, 12):\n",
    "    file_path = f'methods-Experiment-set-new/methods_{i}.json'\n",
    "    if os.path.exists(file_path):\n",
    "        with open(file_path, 'r') as json_file:\n",
    "            data = json.load(json_file)\n",
    "            for entry in data:\n",
    "                pmcid = entry['PMCID']\n",
    "                json_pmcids.add(pmcid)\n",
    "                if entry['Methods'] == \"Methods section not found.\":\n",
    "                    missing_methods_pmcids.add(pmcid)\n",
    "\n",
    "pmcid_set = set(pmcid_list)\n",
    "missing_pmcids = pmcid_set - json_pmcids\n",
    "\n",
    "all_missing = missing_pmcids.union(missing_methods_pmcids)\n",
    "print(f\"Total Methods Sections extracted: {len(pmcid_set) - len(all_missing)}\\n\")\n",
    "print(f\"Total missing PMCIDs (including 'Methods section not found'): {len(all_missing)}\\n\")\n",
    "print(f\"Missing PMCIDs: {all_missing}\")\n"
   ]
  },
  {
   "cell_type": "markdown",
   "id": "0215522e",
   "metadata": {},
   "source": [
    "#### We can see that out of 810 papers, we were able to extract only 628 methods section and 182 papers did not have any methdos section in the papers according to the extraction technique. "
   ]
  }
 ],
 "metadata": {
  "kernelspec": {
   "display_name": "Python 3 (ipykernel)",
   "language": "python",
   "name": "python3"
  },
  "language_info": {
   "codemirror_mode": {
    "name": "ipython",
    "version": 3
   },
   "file_extension": ".py",
   "mimetype": "text/x-python",
   "name": "python",
   "nbconvert_exporter": "python",
   "pygments_lexer": "ipython3",
   "version": "3.9.13"
  }
 },
 "nbformat": 4,
 "nbformat_minor": 5
}
